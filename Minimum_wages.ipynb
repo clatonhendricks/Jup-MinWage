{
 "cells": [
  {
   "cell_type": "markdown",
   "metadata": {},
   "source": [
    "### Datasource # 1 - https://www.kaggle.com/lislejoem/us-minimum-wage-by-state-from-1968-to-2017#Minimum%20Wage%20Data.csv\n",
    "### Datasource # 2 - https://www.dol.gov/agencies/whd/state/minimum-wage/history\n",
    "\n",
    "### Washington minimum wage - https://lni.wa.gov/workers-rights/wages/minimum-wage/history-of-washington-states-minimum-wage\n"
   ]
  },
  {
   "cell_type": "code",
   "execution_count": 9,
   "metadata": {
    "ExecuteTime": {
     "end_time": "2020-02-02T20:18:04.282036Z",
     "start_time": "2020-02-02T20:18:04.266033Z"
    }
   },
   "outputs": [],
   "source": [
    "import pandas as pd\n",
    "%matplotlib inline\n",
    "import matplotlib.pyplot as plt\n",
    "import seaborn as sea"
   ]
  },
  {
   "cell_type": "code",
   "execution_count": 10,
   "metadata": {
    "ExecuteTime": {
     "end_time": "2020-02-02T20:18:04.330038Z",
     "start_time": "2020-02-02T20:18:04.287037Z"
    }
   },
   "outputs": [
    {
     "name": "stdout",
     "output_type": "stream",
     "text": [
      "<class 'pandas.core.frame.DataFrame'>\n",
      "RangeIndex: 2860 entries, 0 to 2859\n",
      "Data columns (total 9 columns):\n",
      "Year           2860 non-null int64\n",
      "State          2860 non-null object\n",
      "Table_Data     2739 non-null object\n",
      "Footnote       418 non-null object\n",
      "High.Value     2849 non-null float64\n",
      "Low.Value      2849 non-null float64\n",
      "CPI.Average    2860 non-null float64\n",
      "High.2018      2739 non-null float64\n",
      "Low.2018       2739 non-null float64\n",
      "dtypes: float64(5), int64(1), object(3)\n",
      "memory usage: 201.2+ KB\n"
     ]
    }
   ],
   "source": [
    "dfwages = pd.read_csv('Minimum Wage Data.csv', encoding='ISO-8859-1')\n",
    "dfwages.info()"
   ]
  },
  {
   "cell_type": "code",
   "execution_count": 11,
   "metadata": {
    "ExecuteTime": {
     "end_time": "2020-02-02T20:18:04.378032Z",
     "start_time": "2020-02-02T20:18:04.336036Z"
    }
   },
   "outputs": [
    {
     "data": {
      "text/html": [
       "<div>\n",
       "<style scoped>\n",
       "    .dataframe tbody tr th:only-of-type {\n",
       "        vertical-align: middle;\n",
       "    }\n",
       "\n",
       "    .dataframe tbody tr th {\n",
       "        vertical-align: top;\n",
       "    }\n",
       "\n",
       "    .dataframe thead th {\n",
       "        text-align: right;\n",
       "    }\n",
       "</style>\n",
       "<table border=\"1\" class=\"dataframe\">\n",
       "  <thead>\n",
       "    <tr style=\"text-align: right;\">\n",
       "      <th></th>\n",
       "      <th>Year</th>\n",
       "      <th>State</th>\n",
       "      <th>Table_Data</th>\n",
       "      <th>Footnote</th>\n",
       "      <th>High.Value</th>\n",
       "      <th>Low.Value</th>\n",
       "      <th>CPI.Average</th>\n",
       "      <th>High.2018</th>\n",
       "      <th>Low.2018</th>\n",
       "    </tr>\n",
       "  </thead>\n",
       "  <tbody>\n",
       "    <tr>\n",
       "      <th>0</th>\n",
       "      <td>1968</td>\n",
       "      <td>Alabama</td>\n",
       "      <td>...</td>\n",
       "      <td>NaN</td>\n",
       "      <td>0.00000</td>\n",
       "      <td>0.00000</td>\n",
       "      <td>34.783333</td>\n",
       "      <td>0.00</td>\n",
       "      <td>0.00</td>\n",
       "    </tr>\n",
       "    <tr>\n",
       "      <th>1</th>\n",
       "      <td>1968</td>\n",
       "      <td>Alaska</td>\n",
       "      <td>2.1</td>\n",
       "      <td>NaN</td>\n",
       "      <td>2.10000</td>\n",
       "      <td>2.10000</td>\n",
       "      <td>34.783333</td>\n",
       "      <td>15.12</td>\n",
       "      <td>15.12</td>\n",
       "    </tr>\n",
       "    <tr>\n",
       "      <th>2</th>\n",
       "      <td>1968</td>\n",
       "      <td>Arizona</td>\n",
       "      <td>18.72 - 26.40/wk(b)</td>\n",
       "      <td>(b)</td>\n",
       "      <td>0.66000</td>\n",
       "      <td>0.46800</td>\n",
       "      <td>34.783333</td>\n",
       "      <td>4.75</td>\n",
       "      <td>3.37</td>\n",
       "    </tr>\n",
       "    <tr>\n",
       "      <th>3</th>\n",
       "      <td>1968</td>\n",
       "      <td>Arkansas</td>\n",
       "      <td>1.25/day(b)</td>\n",
       "      <td>(b)</td>\n",
       "      <td>0.15625</td>\n",
       "      <td>0.15625</td>\n",
       "      <td>34.783333</td>\n",
       "      <td>1.12</td>\n",
       "      <td>1.12</td>\n",
       "    </tr>\n",
       "    <tr>\n",
       "      <th>4</th>\n",
       "      <td>1968</td>\n",
       "      <td>California</td>\n",
       "      <td>1.65(b)</td>\n",
       "      <td>(b)</td>\n",
       "      <td>1.65000</td>\n",
       "      <td>1.65000</td>\n",
       "      <td>34.783333</td>\n",
       "      <td>11.88</td>\n",
       "      <td>11.88</td>\n",
       "    </tr>\n",
       "  </tbody>\n",
       "</table>\n",
       "</div>"
      ],
      "text/plain": [
       "   Year       State           Table_Data Footnote  High.Value  Low.Value  \\\n",
       "0  1968     Alabama                  ...      NaN     0.00000    0.00000   \n",
       "1  1968      Alaska                  2.1      NaN     2.10000    2.10000   \n",
       "2  1968     Arizona  18.72 - 26.40/wk(b)      (b)     0.66000    0.46800   \n",
       "3  1968    Arkansas          1.25/day(b)      (b)     0.15625    0.15625   \n",
       "4  1968  California              1.65(b)      (b)     1.65000    1.65000   \n",
       "\n",
       "   CPI.Average  High.2018  Low.2018  \n",
       "0    34.783333       0.00      0.00  \n",
       "1    34.783333      15.12     15.12  \n",
       "2    34.783333       4.75      3.37  \n",
       "3    34.783333       1.12      1.12  \n",
       "4    34.783333      11.88     11.88  "
      ]
     },
     "execution_count": 11,
     "metadata": {},
     "output_type": "execute_result"
    }
   ],
   "source": [
    "dfwages.head()"
   ]
  },
  {
   "cell_type": "code",
   "execution_count": 12,
   "metadata": {
    "ExecuteTime": {
     "end_time": "2020-02-02T20:18:04.426032Z",
     "start_time": "2020-02-02T20:18:04.384041Z"
    }
   },
   "outputs": [
    {
     "data": {
      "text/html": [
       "<div>\n",
       "<style scoped>\n",
       "    .dataframe tbody tr th:only-of-type {\n",
       "        vertical-align: middle;\n",
       "    }\n",
       "\n",
       "    .dataframe tbody tr th {\n",
       "        vertical-align: top;\n",
       "    }\n",
       "\n",
       "    .dataframe thead th {\n",
       "        text-align: right;\n",
       "    }\n",
       "</style>\n",
       "<table border=\"1\" class=\"dataframe\">\n",
       "  <thead>\n",
       "    <tr style=\"text-align: right;\">\n",
       "      <th></th>\n",
       "      <th>Year</th>\n",
       "      <th>State</th>\n",
       "      <th>Table_Data</th>\n",
       "      <th>Footnote</th>\n",
       "      <th>High.Value</th>\n",
       "      <th>Low.Value</th>\n",
       "      <th>CPI.Average</th>\n",
       "      <th>High.2018</th>\n",
       "      <th>Low.2018</th>\n",
       "    </tr>\n",
       "  </thead>\n",
       "  <tbody>\n",
       "    <tr>\n",
       "      <th>0</th>\n",
       "      <td>1968</td>\n",
       "      <td>Alabama</td>\n",
       "      <td>...</td>\n",
       "      <td>NaN</td>\n",
       "      <td>0.00</td>\n",
       "      <td>0.00</td>\n",
       "      <td>34.78</td>\n",
       "      <td>0.00</td>\n",
       "      <td>0.00</td>\n",
       "    </tr>\n",
       "    <tr>\n",
       "      <th>1</th>\n",
       "      <td>1968</td>\n",
       "      <td>Alaska</td>\n",
       "      <td>2.1</td>\n",
       "      <td>NaN</td>\n",
       "      <td>2.10</td>\n",
       "      <td>2.10</td>\n",
       "      <td>34.78</td>\n",
       "      <td>15.12</td>\n",
       "      <td>15.12</td>\n",
       "    </tr>\n",
       "    <tr>\n",
       "      <th>2</th>\n",
       "      <td>1968</td>\n",
       "      <td>Arizona</td>\n",
       "      <td>18.72 - 26.40/wk(b)</td>\n",
       "      <td>(b)</td>\n",
       "      <td>0.66</td>\n",
       "      <td>0.47</td>\n",
       "      <td>34.78</td>\n",
       "      <td>4.75</td>\n",
       "      <td>3.37</td>\n",
       "    </tr>\n",
       "    <tr>\n",
       "      <th>3</th>\n",
       "      <td>1968</td>\n",
       "      <td>Arkansas</td>\n",
       "      <td>1.25/day(b)</td>\n",
       "      <td>(b)</td>\n",
       "      <td>0.16</td>\n",
       "      <td>0.16</td>\n",
       "      <td>34.78</td>\n",
       "      <td>1.12</td>\n",
       "      <td>1.12</td>\n",
       "    </tr>\n",
       "    <tr>\n",
       "      <th>4</th>\n",
       "      <td>1968</td>\n",
       "      <td>California</td>\n",
       "      <td>1.65(b)</td>\n",
       "      <td>(b)</td>\n",
       "      <td>1.65</td>\n",
       "      <td>1.65</td>\n",
       "      <td>34.78</td>\n",
       "      <td>11.88</td>\n",
       "      <td>11.88</td>\n",
       "    </tr>\n",
       "  </tbody>\n",
       "</table>\n",
       "</div>"
      ],
      "text/plain": [
       "   Year       State           Table_Data Footnote  High.Value  Low.Value  \\\n",
       "0  1968     Alabama                  ...      NaN        0.00       0.00   \n",
       "1  1968      Alaska                  2.1      NaN        2.10       2.10   \n",
       "2  1968     Arizona  18.72 - 26.40/wk(b)      (b)        0.66       0.47   \n",
       "3  1968    Arkansas          1.25/day(b)      (b)        0.16       0.16   \n",
       "4  1968  California              1.65(b)      (b)        1.65       1.65   \n",
       "\n",
       "   CPI.Average  High.2018  Low.2018  \n",
       "0        34.78       0.00      0.00  \n",
       "1        34.78      15.12     15.12  \n",
       "2        34.78       4.75      3.37  \n",
       "3        34.78       1.12      1.12  \n",
       "4        34.78      11.88     11.88  "
      ]
     },
     "execution_count": 12,
     "metadata": {},
     "output_type": "execute_result"
    }
   ],
   "source": [
    "dfwages['High.Value'] = dfwages['High.Value'].round(2)\n",
    "dfwages['Low.Value'] = dfwages['Low.Value'].round(2)\n",
    "dfwages['CPI.Average'] = dfwages['CPI.Average'].round(2)\n",
    "dfwages.head()"
   ]
  },
  {
   "cell_type": "code",
   "execution_count": 13,
   "metadata": {
    "ExecuteTime": {
     "end_time": "2020-02-02T20:18:04.474033Z",
     "start_time": "2020-02-02T20:18:04.430034Z"
    }
   },
   "outputs": [
    {
     "name": "stdout",
     "output_type": "stream",
     "text": [
      "<class 'pandas.core.frame.DataFrame'>\n",
      "RangeIndex: 2860 entries, 0 to 2859\n",
      "Data columns (total 10 columns):\n",
      "Year           2860 non-null int64\n",
      "State          2860 non-null object\n",
      "Table_Data     2739 non-null object\n",
      "Footnote       418 non-null object\n",
      "High.Value     2849 non-null float64\n",
      "Low.Value      2849 non-null float64\n",
      "CPI.Average    2860 non-null float64\n",
      "High.2018      2739 non-null float64\n",
      "Low.2018       2739 non-null float64\n",
      "Zone           2860 non-null object\n",
      "dtypes: float64(5), int64(1), object(4)\n",
      "memory usage: 223.5+ KB\n"
     ]
    }
   ],
   "source": [
    "Zones = {'Washington':'PST',\n",
    "      'Oregon':'PST',\n",
    "      'Nevada':'PST', \n",
    "      'California':'PST',\n",
    "       'Montana':'MST',\n",
    "       'Idaho':'MST',\n",
    "        'Wyoming':'MST',\n",
    "        'Utah':'MST',\n",
    "        'Colorado':'MST',\n",
    "        'New Mexico':'MST',\n",
    "         'Arizona':'MST',\n",
    "        'North Dakota':'CST',\n",
    "         'South Dakota':'CST',\n",
    "         'Minnesota':'CST',\n",
    "         'Nebraska':'CST',\n",
    "         'Iowa':'CST',\n",
    "         'Kansas':'CST',\n",
    "         'Missouri':'CST',\n",
    "         'Oklahoma':'CST',\n",
    "         'Arkansas':'CST',\n",
    "         'Texas':'CST',\n",
    "         'Louisiana':'CST',\n",
    "         'Mississippi':'CST',\n",
    "         'Alabama':'CST',\n",
    "         'Illinois':'CST',\n",
    "         'Wisconsin':'CST',\n",
    "         'Tennessee':'CST',\n",
    "         'Florida':'CST',\n",
    "         'Georgia':'EST',\n",
    "         'South Carolina':'EST',\n",
    "         'North Carolina':'EST',\n",
    "         'Virginia':'EST',\n",
    "         'Kentucky':'EST',\n",
    "         'Virginia':'EST',\n",
    "         'West Virginia':'EST',\n",
    "         'District of Columbia':'EST',\n",
    "         'Indianapolis':'EST',\n",
    "         'Ohio':'EST',\n",
    "         'Pennsylvania':'EST',\n",
    "         'Michigan':'EST',\n",
    "         'Connecticut':'EST',\n",
    "         'Delaware':'EST',\n",
    "         'Maine':'EST',\n",
    "         'Maryland':'EST',\n",
    "         'Massachusetts':'EST',\n",
    "         'New Hampshire':'EST',\n",
    "         'New Jersey':'EST',\n",
    "         'New York':'EST',\n",
    "         'Rhode Island':'EST',\n",
    "         'Indiana':'EST',\n",
    "         'Vermont':'EST',\n",
    "         'Federal (FLSA)':'Gov',\n",
    "         'Alaska':'AKST',\n",
    "         'Hawaii':'HAST',\n",
    "         'Guam':'ChST',\n",
    "         'Puerto Rico':'AST',\n",
    "         'U.S. Virgin Islands':'AST'\n",
    "        }\n",
    "Zones\n",
    "dfwages['Zone'] = dfwages['State'].map(Zones)\n",
    "\n",
    "dfwages.info()"
   ]
  },
  {
   "cell_type": "code",
   "execution_count": 57,
   "metadata": {
    "ExecuteTime": {
     "end_time": "2020-02-02T21:15:39.063520Z",
     "start_time": "2020-02-02T21:15:39.026896Z"
    }
   },
   "outputs": [
    {
     "data": {
      "text/html": [
       "<div>\n",
       "<style scoped>\n",
       "    .dataframe tbody tr th:only-of-type {\n",
       "        vertical-align: middle;\n",
       "    }\n",
       "\n",
       "    .dataframe tbody tr th {\n",
       "        vertical-align: top;\n",
       "    }\n",
       "\n",
       "    .dataframe thead th {\n",
       "        text-align: right;\n",
       "    }\n",
       "</style>\n",
       "<table border=\"1\" class=\"dataframe\">\n",
       "  <thead>\n",
       "    <tr style=\"text-align: right;\">\n",
       "      <th></th>\n",
       "      <th>Year</th>\n",
       "      <th>State</th>\n",
       "      <th>Table_Data</th>\n",
       "      <th>Footnote</th>\n",
       "      <th>HighValue</th>\n",
       "      <th>Low.Value</th>\n",
       "      <th>CPI.Average</th>\n",
       "      <th>High.2018</th>\n",
       "      <th>Low.2018</th>\n",
       "      <th>Zone</th>\n",
       "    </tr>\n",
       "  </thead>\n",
       "  <tbody>\n",
       "    <tr>\n",
       "      <th>0</th>\n",
       "      <td>1968</td>\n",
       "      <td>Alabama</td>\n",
       "      <td>...</td>\n",
       "      <td>NaN</td>\n",
       "      <td>0.00</td>\n",
       "      <td>0.00</td>\n",
       "      <td>34.78</td>\n",
       "      <td>0.00</td>\n",
       "      <td>0.00</td>\n",
       "      <td>CST</td>\n",
       "    </tr>\n",
       "    <tr>\n",
       "      <th>1</th>\n",
       "      <td>1968</td>\n",
       "      <td>Alaska</td>\n",
       "      <td>2.1</td>\n",
       "      <td>NaN</td>\n",
       "      <td>2.10</td>\n",
       "      <td>2.10</td>\n",
       "      <td>34.78</td>\n",
       "      <td>15.12</td>\n",
       "      <td>15.12</td>\n",
       "      <td>AKST</td>\n",
       "    </tr>\n",
       "    <tr>\n",
       "      <th>2</th>\n",
       "      <td>1968</td>\n",
       "      <td>Arizona</td>\n",
       "      <td>18.72 - 26.40/wk(b)</td>\n",
       "      <td>(b)</td>\n",
       "      <td>0.66</td>\n",
       "      <td>0.47</td>\n",
       "      <td>34.78</td>\n",
       "      <td>4.75</td>\n",
       "      <td>3.37</td>\n",
       "      <td>MST</td>\n",
       "    </tr>\n",
       "    <tr>\n",
       "      <th>3</th>\n",
       "      <td>1968</td>\n",
       "      <td>Arkansas</td>\n",
       "      <td>1.25/day(b)</td>\n",
       "      <td>(b)</td>\n",
       "      <td>0.16</td>\n",
       "      <td>0.16</td>\n",
       "      <td>34.78</td>\n",
       "      <td>1.12</td>\n",
       "      <td>1.12</td>\n",
       "      <td>CST</td>\n",
       "    </tr>\n",
       "    <tr>\n",
       "      <th>4</th>\n",
       "      <td>1968</td>\n",
       "      <td>California</td>\n",
       "      <td>1.65(b)</td>\n",
       "      <td>(b)</td>\n",
       "      <td>1.65</td>\n",
       "      <td>1.65</td>\n",
       "      <td>34.78</td>\n",
       "      <td>11.88</td>\n",
       "      <td>11.88</td>\n",
       "      <td>PST</td>\n",
       "    </tr>\n",
       "  </tbody>\n",
       "</table>\n",
       "</div>"
      ],
      "text/plain": [
       "   Year       State           Table_Data Footnote  HighValue  Low.Value  \\\n",
       "0  1968     Alabama                  ...      NaN       0.00       0.00   \n",
       "1  1968      Alaska                  2.1      NaN       2.10       2.10   \n",
       "2  1968     Arizona  18.72 - 26.40/wk(b)      (b)       0.66       0.47   \n",
       "3  1968    Arkansas          1.25/day(b)      (b)       0.16       0.16   \n",
       "4  1968  California              1.65(b)      (b)       1.65       1.65   \n",
       "\n",
       "   CPI.Average  High.2018  Low.2018  Zone  \n",
       "0        34.78       0.00      0.00   CST  \n",
       "1        34.78      15.12     15.12  AKST  \n",
       "2        34.78       4.75      3.37   MST  \n",
       "3        34.78       1.12      1.12   CST  \n",
       "4        34.78      11.88     11.88   PST  "
      ]
     },
     "execution_count": 57,
     "metadata": {},
     "output_type": "execute_result"
    }
   ],
   "source": [
    "dfwages.rename(columns={'High.Value':'HighValue'},inplace=True)\n",
    "dfwages.head()"
   ]
  },
  {
   "cell_type": "code",
   "execution_count": 15,
   "metadata": {
    "ExecuteTime": {
     "end_time": "2020-02-02T20:18:04.600032Z",
     "start_time": "2020-02-02T20:18:04.556035Z"
    }
   },
   "outputs": [
    {
     "data": {
      "text/html": [
       "<div>\n",
       "<style scoped>\n",
       "    .dataframe tbody tr th:only-of-type {\n",
       "        vertical-align: middle;\n",
       "    }\n",
       "\n",
       "    .dataframe tbody tr th {\n",
       "        vertical-align: top;\n",
       "    }\n",
       "\n",
       "    .dataframe thead th {\n",
       "        text-align: right;\n",
       "    }\n",
       "</style>\n",
       "<table border=\"1\" class=\"dataframe\">\n",
       "  <thead>\n",
       "    <tr style=\"text-align: right;\">\n",
       "      <th></th>\n",
       "      <th>Year</th>\n",
       "      <th>Zone</th>\n",
       "      <th>HighValue</th>\n",
       "    </tr>\n",
       "  </thead>\n",
       "  <tbody>\n",
       "    <tr>\n",
       "      <th>0</th>\n",
       "      <td>1968</td>\n",
       "      <td>AKST</td>\n",
       "      <td>2.100000</td>\n",
       "    </tr>\n",
       "    <tr>\n",
       "      <th>1</th>\n",
       "      <td>1968</td>\n",
       "      <td>AST</td>\n",
       "      <td>1.600000</td>\n",
       "    </tr>\n",
       "    <tr>\n",
       "      <th>2</th>\n",
       "      <td>1968</td>\n",
       "      <td>CST</td>\n",
       "      <td>0.371176</td>\n",
       "    </tr>\n",
       "    <tr>\n",
       "      <th>3</th>\n",
       "      <td>1968</td>\n",
       "      <td>ChST</td>\n",
       "      <td>1.250000</td>\n",
       "    </tr>\n",
       "    <tr>\n",
       "      <th>4</th>\n",
       "      <td>1968</td>\n",
       "      <td>EST</td>\n",
       "      <td>1.092857</td>\n",
       "    </tr>\n",
       "  </tbody>\n",
       "</table>\n",
       "</div>"
      ],
      "text/plain": [
       "   Year  Zone  HighValue\n",
       "0  1968  AKST   2.100000\n",
       "1  1968   AST   1.600000\n",
       "2  1968   CST   0.371176\n",
       "3  1968  ChST   1.250000\n",
       "4  1968   EST   1.092857"
      ]
     },
     "execution_count": 15,
     "metadata": {},
     "output_type": "execute_result"
    }
   ],
   "source": [
    "dfzones = dfwages.groupby(['Year','Zone']).HighValue.mean()\n",
    "dfzones = dfzones.reset_index()\n",
    "dfzones.head()"
   ]
  },
  {
   "cell_type": "code",
   "execution_count": 16,
   "metadata": {
    "ExecuteTime": {
     "end_time": "2020-02-02T20:18:04.632032Z",
     "start_time": "2020-02-02T20:18:04.606032Z"
    }
   },
   "outputs": [],
   "source": [
    "dfEST=dfzones[(dfzones['Zone'] == 'EST')]\n",
    "dfCST=dfzones[(dfzones['Zone'] == 'CST')]\n",
    "dfMST=dfzones[(dfzones['Zone'] == 'MST')]\n",
    "dfPST=dfzones[(dfzones['Zone'] == 'PST')]\n",
    "dfFed=dfzones[(dfzones['Zone'] == 'Gov')]"
   ]
  },
  {
   "cell_type": "markdown",
   "metadata": {},
   "source": [
    "### Graph showing minimum wage increase from 1968-2019 for all states in 4 major time zones vs. the Federal gov recommendations"
   ]
  },
  {
   "cell_type": "code",
   "execution_count": 56,
   "metadata": {
    "ExecuteTime": {
     "end_time": "2020-02-02T20:55:24.963788Z",
     "start_time": "2020-02-02T20:55:24.624226Z"
    }
   },
   "outputs": [
    {
     "data": {
      "image/png": "[encoded data removed]",
      "text/plain": [
       "<Figure size 1008x432 with 1 Axes>"
      ]
     },
     "metadata": {
      "needs_background": "light"
     },
     "output_type": "display_data"
    }
   ],
   "source": [
    "import matplotlib.ticker as plticker\n",
    "\n",
    "plt.figure(figsize=(14,6))\n",
    "\n",
    "plt.plot(dfEST['Year'], dfEST['HighValue'], linewidth=4)\n",
    "plt.plot(dfCST['Year'], dfCST['HighValue'], linewidth=4)\n",
    "plt.plot(dfMST['Year'], dfMST['HighValue'], linewidth=4)\n",
    "plt.plot(dfPST['Year'], dfPST['HighValue'], linewidth=4)\n",
    "plt.plot(dfFed['Year'], dfFed['HighValue'], linewidth=5, color='grey', linestyle='--')\n",
    "plt.legend(['Eastern zone','Central zone','Mountain zone','Pacific zone', 'Federal Gov'], loc=0)\n",
    "\n",
    "# annotate the data for Pascific zone vs Federal gov. \n",
    "for var in (dfPST['HighValue'], dfFed['HighValue'],dfCST['HighValue']):\n",
    "    plt.annotate('%0.2f' % var.max(), xy=(1, var.max()), xytext=(0, 2), \n",
    "                 xycoords=('axes fraction', 'data'), textcoords='offset points',\n",
    "                 horizontalalignment='right', verticalalignment='top')\n",
    "\n",
    "ax = plt.gca()\n",
    "loc = plticker.MultipleLocator(base=3.0) # sets the ticks rate\n",
    "ax.xaxis.set_major_locator(loc) # sets the ticks\n",
    "\n",
    "ax.set_xlabel('Years',fontdict={'fontsize':'12'})\n",
    "ax.set_ylabel('Minimum Wages($)',fontdict={'fontsize':'12'})\n",
    "ax.set_title('United States average minimum wage (1968-2019) for 4 zones', fontdict={'fontsize':'15'})\n",
    "ax.grid(axis='x')  # to add grid"
   ]
  },
  {
   "cell_type": "code",
   "execution_count": null,
   "metadata": {},
   "outputs": [],
   "source": []
  },
  {
   "cell_type": "code",
   "execution_count": null,
   "metadata": {},
   "outputs": [],
   "source": []
  }
 ],
 "metadata": {
  "kernelspec": {
   "display_name": "Python 3",
   "language": "python",
   "name": "python3"
  },
  "language_info": {
   "codemirror_mode": {
    "name": "ipython",
    "version": 3
   },
   "file_extension": ".py",
   "mimetype": "text/x-python",
   "name": "python",
   "nbconvert_exporter": "python",
   "pygments_lexer": "ipython3",
   "version": "3.7.3"
  },
  "varInspector": {
   "cols": {
    "lenName": 16,
    "lenType": 16,
    "lenVar": 40
   },
   "kernels_config": {
    "python": {
     "delete_cmd_postfix": "",
     "delete_cmd_prefix": "del ",
     "library": "var_list.py",
     "varRefreshCmd": "print(var_dic_list())"
    },
    "r": {
     "delete_cmd_postfix": ") ",
     "delete_cmd_prefix": "rm(",
     "library": "var_list.r",
     "varRefreshCmd": "cat(var_dic_list()) "
    }
   },
   "types_to_exclude": [
    "module",
    "function",
    "builtin_function_or_method",
    "instance",
    "_Feature"
   ],
   "window_display": false
  }
 },
 "nbformat": 4,
 "nbformat_minor": 2
}
